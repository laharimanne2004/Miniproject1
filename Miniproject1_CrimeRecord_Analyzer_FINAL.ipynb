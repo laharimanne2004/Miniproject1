{
 "cells": [
  {
   "cell_type": "markdown",
   "metadata": {
    "id": "pkZu9IECPSmf"
   },
   "source": [
    "# Crime Record Analyzer & Visualizer (India)\n",
    "\n",
    "This project analyzes crime patterns in India using multiple publicly available datasets.  \n",
    "It covers a range of themes including crimes against women, property-related offenses, and victim demographics. The objective is to uncover trends, assess recovery and conviction rates, and visualize the evolution of criminal activity across states and categories. The analysis employs Python for data processing, statistical modeling, forecasting, and interactive exploration.\n",
    "\n",
    "## Features\n",
    "- Trend analysis of property stolen and recovered over time\n",
    "- Age and sex-based analysis of murder and rape victims\n",
    "- Category-wise insights into crimes against women (e.g., Dowry, Assault, Harassment)\n",
    "- State-wise case reporting and arrest patterns\n",
    "- National recovery and conviction rate calculations\n",
    "- Predictive modeling to forecast future crime patterns\n",
    "- Interactive visualizations using dropdown filters\n",
    "- Final summary of insights and actionable takeaways\n",
    "\n",
    "Technologies used: Pandas, Matplotlib, Seaborn, Statsmodels, scikit-learn, IPyWidgets\n"
   ]
  },
  {
   "cell_type": "markdown",
   "metadata": {
    "id": "7MqAf8SPMHg6"
   },
   "source": [
    "## **1. Cases Against Women (India)**\n",
    "\n",
    "The **Cases Against Women (India)** dataset provides annual records of crimes reported against women across various Indian states and union territories. It includes detailed statistics on multiple crime categories such as rape, dowry deaths, domestic cruelty, kidnapping, and others. This dataset enables the analysis of regional and temporal trends, offering insights into the safety and legal protection of women in different parts of India.\n",
    "\n",
    "This project focuses on exploring, analyzing, and visualizing this dataset using Python. The goal is to identify key patterns, crime hotspots, and trends over time, and to present the findings through clear visual representations. The project also lays the groundwork for advanced extensions such as predictive analysis and interactive dashboards.\n"
   ]
  },
  {
   "cell_type": "markdown",
   "metadata": {
    "id": "iSxqG0SCPW05"
   },
   "source": [
    "## Data Loading and Cleaning\n",
    "\n",
    "This section includes importing required libraries, loading the dataset from CSV, checking for null values, and cleaning the column names for further analysis.\n"
   ]
  },
  {
   "cell_type": "code",
   "execution_count": null,
   "metadata": {
    "colab": {
     "base_uri": "https://localhost:8080/",
     "height": 325
    },
    "id": "8DfbAuqcNvTH",
    "outputId": "d7362ed5-1bef-4cd5-e43b-c03c6852c521"
   },
   "outputs": [],
   "source": [
    "# Step 0: Import Libraries\n",
    "import pandas as pd\n",
    "import matplotlib.pyplot as plt\n",
    "import seaborn as sns\n",
    "\n",
    "# Set seaborn style for nicer plots\n",
    "sns.set(style=\"whitegrid\")\n",
    "\n",
    "# Step 1: Load the dataset while skipping malformed rows\n",
    "df = pd.read_csv('Cases_Women.csv', on_bad_lines='skip')\n",
    "\n",
    "# Step 2: Preview first few rows\n",
    "df.head()"
   ]
  },
  {
   "cell_type": "code",
   "execution_count": null,
   "metadata": {
    "colab": {
     "base_uri": "https://localhost:8080/"
    },
    "id": "MfhQ34KnPieM",
    "outputId": "84e1c44d-3943-441f-ec86-de2369fe27e7"
   },
   "outputs": [],
   "source": [
    "# Shape of the dataset\n",
    "print(\"Shape of dataset:\", df.shape)\n",
    "\n",
    "# Info about data types and nulls\n",
    "df.info()\n",
    "\n",
    "# Check for missing values\n",
    "print(\"\\nMissing values in each column:\")\n",
    "print(df.isnull().sum())"
   ]
  },
  {
   "cell_type": "code",
   "execution_count": null,
   "metadata": {
    "colab": {
     "base_uri": "https://localhost:8080/"
    },
    "id": "tNTFmV5xQTv-",
    "outputId": "abb47239-932d-49bc-998e-92f0301bb53c"
   },
   "outputs": [],
   "source": [
    "# Clean and simplify column names\n",
    "df.columns = df.columns.str.strip().str.replace('\\n', ' ').str.replace(' ', '_').str.lower()\n",
    "\n",
    "# Show new column names\n",
    "print(\"Cleaned column names:\")\n",
    "print(df.columns.tolist())"
   ]
  },
  {
   "cell_type": "markdown",
   "metadata": {
    "id": "BFTpx5HnQVxT"
   },
   "source": [
    "## National-Level Crime and Conviction Trends\n",
    "\n",
    "Explore the overall trend of crimes reported and convictions recorded against women in India over time.  \n",
    "Visualizations include line plots for total crimes, convictions, and average conviction rate by year."
   ]
  },
  {
   "cell_type": "code",
   "execution_count": null,
   "metadata": {
    "colab": {
     "base_uri": "https://localhost:8080/",
     "height": 501
    },
    "id": "GB1iuG8XQbEj",
    "outputId": "7bc5b6d0-b22e-4e1a-894a-e7ea5b39ca07"
   },
   "outputs": [],
   "source": [
    "# Total crimes reported per year\n",
    "yearly_crimes = df.groupby('year')['cases_reported'].sum()\n",
    "\n",
    "# Plot\n",
    "plt.figure(figsize=(10, 5))\n",
    "yearly_crimes.plot(kind='line', marker='o', color='darkblue')\n",
    "plt.title('Total Crimes Against Women Per Year')\n",
    "plt.xlabel('Year')\n",
    "plt.ylabel('Number of Cases Reported')\n",
    "plt.grid(True)\n",
    "plt.tight_layout()\n",
    "plt.show()"
   ]
  },
  {
   "cell_type": "markdown",
   "metadata": {
    "id": "DC9vEC0vQfTt"
   },
   "source": [
    "## Top States and Crime Categories\n",
    "\n",
    "Identify the states with the highest number of reported crimes in the most recent year.  \n",
    "Also visualize the top crime categories (group-level) based on the total number of cases reported.\n"
   ]
  },
  {
   "cell_type": "code",
   "execution_count": null,
   "metadata": {
    "colab": {
     "base_uri": "https://localhost:8080/",
     "height": 601
    },
    "id": "c6k0qVCjQitv",
    "outputId": "ecd13bae-0c29-4703-9799-1c26699a1472"
   },
   "outputs": [],
   "source": [
    "# Find latest year\n",
    "latest_year = df['year'].max()\n",
    "\n",
    "# Filter rows for latest year and get top 10 states by cases reported\n",
    "top_states = (\n",
    "    df[df['year'] == latest_year]\n",
    "    .groupby('area_name')['cases_reported']\n",
    "    .sum()\n",
    "    .sort_values(ascending=False)\n",
    "    .head(10)\n",
    ")\n",
    "\n",
    "# Plot\n",
    "plt.figure(figsize=(10, 6))\n",
    "sns.barplot(x=top_states.values, y=top_states.index, palette='Reds_r')\n",
    "plt.title(f'Top 10 States/UTs with Most Reported Cases in {latest_year}')\n",
    "plt.xlabel('Cases Reported')\n",
    "plt.ylabel('State/UT')\n",
    "plt.tight_layout()\n",
    "plt.show()"
   ]
  },
  {
   "cell_type": "code",
   "execution_count": null,
   "metadata": {
    "colab": {
     "base_uri": "https://localhost:8080/",
     "height": 501
    },
    "id": "2AOVKdMVQqVu",
    "outputId": "1ef8f45c-59ba-40b4-b953-0ec91c76d4e1"
   },
   "outputs": [],
   "source": [
    "# Group by year for convictions\n",
    "conviction_trend = df.groupby('year')['cases_convicted'].sum()\n",
    "\n",
    "# Plot\n",
    "plt.figure(figsize=(10, 5))\n",
    "conviction_trend.plot(kind='line', marker='o', color='green')\n",
    "plt.title('Total Convictions Over the Years')\n",
    "plt.xlabel('Year')\n",
    "plt.ylabel('Number of Convictions')\n",
    "plt.grid(True)\n",
    "plt.tight_layout()\n",
    "plt.show()"
   ]
  },
  {
   "cell_type": "code",
   "execution_count": null,
   "metadata": {
    "colab": {
     "base_uri": "https://localhost:8080/",
     "height": 501
    },
    "id": "qrad8XoBRBNg",
    "outputId": "99a6f062-f28b-42a0-82ad-8b41a81a8942"
   },
   "outputs": [],
   "source": [
    "# Conviction Rate = Convicted / Reported\n",
    "df['conviction_rate'] = (df['cases_convicted'] / df['cases_reported']) * 100\n",
    "\n",
    "# Average conviction rate by year\n",
    "yearly_conviction_rate = df.groupby('year')['conviction_rate'].mean()\n",
    "\n",
    "# Plot\n",
    "plt.figure(figsize=(10, 5))\n",
    "yearly_conviction_rate.plot(kind='line', marker='o', color='purple')\n",
    "plt.title('Average Conviction Rate Over the Years')\n",
    "plt.xlabel('Year')\n",
    "plt.ylabel('Conviction Rate (%)')\n",
    "plt.grid(True)\n",
    "plt.tight_layout()\n",
    "plt.show()"
   ]
  },
  {
   "cell_type": "code",
   "execution_count": null,
   "metadata": {
    "colab": {
     "base_uri": "https://localhost:8080/",
     "height": 608
    },
    "id": "gJANhO67RKAs",
    "outputId": "c5370d73-1176-44a6-863a-2ab5d82dc270"
   },
   "outputs": [],
   "source": [
    "# Group by group_name and get top 5 based on total cases reported\n",
    "top_crime_types = df.groupby('group_name')['cases_reported'].sum().sort_values(ascending=False).head(5)\n",
    "\n",
    "# Plot\n",
    "plt.figure(figsize=(10,5))\n",
    "sns.barplot(x=top_crime_types.values, y=top_crime_types.index, palette='Blues_d')\n",
    "plt.title('Top 5 Crime Categories Against Women')\n",
    "plt.xlabel('Total Cases Reported')\n",
    "plt.ylabel('Crime Category')\n",
    "plt.tight_layout()\n",
    "plt.show()"
   ]
  },
  {
   "cell_type": "markdown",
   "metadata": {
    "id": "zsx8RvRmRTil"
   },
   "source": [
    "## Subgroup-Level Crime Trends\n",
    "\n",
    "Analyze trends over time for the top 5 most frequently reported crime subgroups.  \n",
    "This helps in understanding which specific types of crimes are increasing or decreasing over the years."
   ]
  },
  {
   "cell_type": "code",
   "execution_count": null,
   "metadata": {
    "colab": {
     "base_uri": "https://localhost:8080/",
     "height": 559
    },
    "id": "AflXIvA0RUDT",
    "outputId": "2d8ad7a3-053a-42ea-c53a-fb3a9326a1da"
   },
   "outputs": [],
   "source": [
    "# Top 5 most common subgroups by total reported cases\n",
    "top_subgroups = df.groupby('sub_group_name')['cases_reported'].sum().sort_values(ascending=False).head(5).index\n",
    "subset = df[df['sub_group_name'].isin(top_subgroups)]\n",
    "\n",
    "plt.figure(figsize=(12, 6))\n",
    "sns.lineplot(data=subset, x='year', y='cases_reported', hue='sub_group_name', marker='o')\n",
    "plt.title('Top 5 Crime Subgroups Against Women Over Time')\n",
    "plt.xlabel('Year')\n",
    "plt.ylabel('Cases Reported')\n",
    "plt.grid(True)\n",
    "plt.tight_layout()\n",
    "plt.show()\n"
   ]
  },
  {
   "cell_type": "markdown",
   "metadata": {
    "id": "YwPfJ9bpRYM3"
   },
   "source": [
    "## State-wise Conviction Rate Heatmap\n",
    "\n",
    "Visual comparison of average conviction rates across Indian states.  \n",
    "A heatmap helps identify regions with consistently high or low conviction efficiency."
   ]
  },
  {
   "cell_type": "code",
   "execution_count": null,
   "metadata": {
    "colab": {
     "base_uri": "https://localhost:8080/",
     "height": 968
    },
    "id": "gQhd7jZwRamo",
    "outputId": "efa4c4d7-eb24-4cd3-9362-eda60d5c3a1d"
   },
   "outputs": [],
   "source": [
    "# Average conviction rate per state\n",
    "state_conviction = df.groupby('area_name')['conviction_rate'].mean().sort_values(ascending=False)\n",
    "\n",
    "# Plot top & bottom states on heatmap\n",
    "plt.figure(figsize=(12, 10))\n",
    "sns.heatmap(state_conviction.to_frame().T, cmap='coolwarm', annot=True, cbar_kws={'label': 'Conviction Rate (%)'})\n",
    "plt.title('Conviction Rate by State')\n",
    "plt.yticks([])\n",
    "plt.xticks(rotation=90)\n",
    "plt.tight_layout()\n",
    "plt.show()"
   ]
  },
  {
   "cell_type": "markdown",
   "metadata": {
    "id": "R3SG9_FRRdz_"
   },
   "source": [
    "## Time-Series Trend Decomposition\n",
    "\n",
    "Apply seasonal decomposition to the national-level crime data to break down the trend into three components:\n",
    "- Trend: Long-term progression\n",
    "- Seasonal: Repeating patterns\n",
    "- Residual: Irregularities or noise"
   ]
  },
  {
   "cell_type": "code",
   "execution_count": null,
   "metadata": {
    "colab": {
     "base_uri": "https://localhost:8080/",
     "height": 524
    },
    "id": "sZVkE48eRgYF",
    "outputId": "7d391489-0dbc-4484-bc0f-70fcea6bee57"
   },
   "outputs": [],
   "source": [
    "from statsmodels.tsa.seasonal import seasonal_decompose\n",
    "import pandas as pd\n",
    "import matplotlib.pyplot as plt\n",
    "\n",
    "# Use national yearly trend of reported cases\n",
    "yearly = df.groupby('year')['cases_reported'].sum()\n",
    "\n",
    "# Convert to time series (with a dummy date index)\n",
    "ts = pd.Series(yearly.values, index=pd.date_range(start='1/1/2001', periods=len(yearly), freq='Y'))\n",
    "\n",
    "result = seasonal_decompose(ts, model='additive', period=1)\n",
    "\n",
    "# Plot\n",
    "result.plot()\n",
    "plt.suptitle('Crime Reporting Trend Decomposition', fontsize=14)\n",
    "plt.tight_layout()\n",
    "plt.tight_layout()\n",
    "plt.show()\n"
   ]
  },
  {
   "cell_type": "markdown",
   "metadata": {
    "id": "IgYnqg2tRkep"
   },
   "source": [
    "## Forecasting Crime Cases Using Linear Regression\n",
    "\n",
    "Use a simple linear regression model to predict the number of crimes that may be reported in the upcoming year based on historical national trends.\n"
   ]
  },
  {
   "cell_type": "code",
   "execution_count": null,
   "metadata": {
    "colab": {
     "base_uri": "https://localhost:8080/"
    },
    "id": "1SUJiwIeRnD-",
    "outputId": "3969a828-e208-4eb5-87d7-1553b2c17bfd"
   },
   "outputs": [],
   "source": [
    "from sklearn.linear_model import LinearRegression\n",
    "import numpy as np\n",
    "\n",
    "# Prepare data: use year values directly from the index\n",
    "X = np.array(yearly.index).reshape(-1, 1)\n",
    "y = yearly.values\n",
    "\n",
    "# Fit model\n",
    "model = LinearRegression()\n",
    "model.fit(X, y)\n",
    "\n",
    "# Predict for next year\n",
    "next_year = X[-1][0] + 1\n",
    "prediction = model.predict([[next_year]])\n",
    "\n",
    "print(f\"🔮 Predicted total crimes in {next_year}: {int(prediction[0])}\")"
   ]
  },
  {
   "cell_type": "markdown",
   "metadata": {
    "id": "Cd1eb0DgRvPF"
   },
   "source": [
    "## Interactive Analysis by State and Subgroup\n",
    "\n",
    "Use dropdown filters to select a state and a crime subgroup.  \n",
    "The line chart will show the trend of that specific crime in the selected region over the years."
   ]
  },
  {
   "cell_type": "code",
   "execution_count": null,
   "metadata": {
    "colab": {
     "base_uri": "https://localhost:8080/",
     "height": 527,
     "referenced_widgets": [
      "23d8829a603747198f9d2a33fa11324a",
      "d60d337e081d4929b0deac48a9f80f68",
      "ce11d528299940c78692bce687967478",
      "4180dd34625d410a9c7dcf058d190a81",
      "32e1e9f1f0f84a93bf451b78f049fd2b",
      "f17dc0fb865140d38a3f10c4eb33364e",
      "a39c4265290b457b9a1af91f5b738b69",
      "3a721ce419c64a05bc00e70b37ba26f0",
      "9c6f6db392414f79a915e95e03270e6c",
      "672c8c1c1346418f858a39047e7b29f5"
     ]
    },
    "id": "bEK2Zv_DRylI",
    "outputId": "ebf8912e-c65e-4525-99fe-1ace89429c7a"
   },
   "outputs": [],
   "source": [
    "import ipywidgets as widgets\n",
    "from IPython.display import display\n",
    "\n",
    "# Dropdown for state & subgroup\n",
    "state_dropdown = widgets.Dropdown(options=df['area_name'].unique(), description='State:')\n",
    "subgroup_dropdown = widgets.Dropdown(options=df['sub_group_name'].unique(), description='Subgroup:')\n",
    "\n",
    "display(state_dropdown, subgroup_dropdown)\n",
    "\n",
    "def plot_filtered(state, subgroup):\n",
    "    filtered = df[(df['area_name'] == state) & (df['sub_group_name'] == subgroup)]\n",
    "    trend = filtered.groupby('year')['cases_reported'].sum()\n",
    "\n",
    "    plt.figure(figsize=(10, 4))\n",
    "    trend.plot(kind='line', marker='o', title=f'{subgroup} Cases in {state}')\n",
    "    plt.ylabel('Cases Reported')\n",
    "    plt.grid(True)\n",
    "    plt.tight_layout()\n",
    "    plt.show()\n",
    "\n",
    "# Link interactivity\n",
    "widgets.interactive(plot_filtered, state=state_dropdown, subgroup=subgroup_dropdown)"
   ]
  },
  {
   "cell_type": "markdown",
   "metadata": {
    "id": "Fylaa-JPR5YI"
   },
   "source": [
    "## Summary of Key Insights\n",
    "\n",
    "This section presents an automatically generated summary of important statistics extracted from the dataset.  \n",
    "It highlights the most common crime type, the state with the highest case count, and the region with the best conviction rate."
   ]
  },
  {
   "cell_type": "code",
   "execution_count": null,
   "metadata": {
    "colab": {
     "base_uri": "https://localhost:8080/"
    },
    "id": "lITPBhAnR51C",
    "outputId": "1f7e848d-5a9d-456c-c187-3b1c1a20f3ec"
   },
   "outputs": [],
   "source": [
    "print(\"📌 Key Insights Summary:\\n\")\n",
    "print(f\"🗓️ Years Covered: {df['year'].min()} - {df['year'].max()}\")\n",
    "print(f\"📍 Total States: {df['area_name'].nunique()}\")\n",
    "print(f\"📊 Most Reported Crime Type: {df.groupby('sub_group_name')['cases_reported'].sum().idxmax()}\")\n",
    "print(f\"🚨 State with Highest Total Cases: {df.groupby('area_name')['cases_reported'].sum().idxmax()}\")\n",
    "print(f\"✅ State with Highest Conviction Rate: {df.groupby('area_name')['conviction_rate'].mean().idxmax()}\")\n"
   ]
  },
  {
   "cell_type": "markdown",
   "metadata": {
    "id": "GBsGZHzVUPwg"
   },
   "source": [
    "#  **2. Analysis of Arrests Under Crimes Against Women(India)**\n",
    "\n",
    "\n",
    "This section explores arrest trends across Indian states and crime categories based on the arrests dataset. It includes time-series visualizations, top subgroup analysis, and state-level comparisons to uncover how legal action has progressed across different years.\n"
   ]
  },
  {
   "cell_type": "code",
   "execution_count": null,
   "metadata": {
    "colab": {
     "base_uri": "https://localhost:8080/",
     "height": 295
    },
    "id": "BUPx-W7XURbK",
    "outputId": "189aca39-5a50-4d96-cf9c-d4ab712d3151"
   },
   "outputs": [],
   "source": [
    "# Load the arrests dataset\n",
    "arrests_df = pd.read_csv('Arrests_crime_against_women.csv', on_bad_lines='skip')\n",
    "\n",
    "# Preview first few rows\n",
    "arrests_df.head()\n"
   ]
  },
  {
   "cell_type": "markdown",
   "metadata": {
    "id": "91suNzdNUk8l"
   },
   "source": [
    "###  Dataset Overview\n",
    "We inspect the structure of the dataset, check for missing values, and prepare the column names for analysis.\n"
   ]
  },
  {
   "cell_type": "code",
   "execution_count": null,
   "metadata": {
    "colab": {
     "base_uri": "https://localhost:8080/"
    },
    "id": "daEgBQ0WUnbO",
    "outputId": "ff4c8dc3-7684-4132-9d62-da84ec6593e3"
   },
   "outputs": [],
   "source": [
    "# Basic structure\n",
    "print(\"Shape of dataset:\", arrests_df.shape)\n",
    "arrests_df.info()\n",
    "\n",
    "# Missing values\n",
    "print(\"\\nMissing values:\")\n",
    "print(arrests_df.isnull().sum())\n",
    "\n",
    "# Clean column names\n",
    "arrests_df.columns = arrests_df.columns.str.strip().str.replace('\\n', ' ').str.replace(' ', '_').str.lower()\n",
    "print(\"Cleaned column names:\", arrests_df.columns.tolist())\n"
   ]
  },
  {
   "cell_type": "markdown",
   "metadata": {
    "id": "ZrxwB2rzUqaM"
   },
   "source": [
    "### Year-wise Trend of Total Arrests\n",
    "We analyze the yearly progression of arrests made under crimes against women using the `persons_arrested` column.\n",
    "\n"
   ]
  },
  {
   "cell_type": "code",
   "execution_count": null,
   "metadata": {
    "colab": {
     "base_uri": "https://localhost:8080/",
     "height": 501
    },
    "id": "RwH7m8N6UshC",
    "outputId": "870d2432-edbe-47bd-f40e-2c10346253ac"
   },
   "outputs": [],
   "source": [
    "# Total arrests by year using the correct column name\n",
    "yearly_arrests = arrests_df.groupby('year')['persons_arrested'].sum()\n",
    "\n",
    "plt.figure(figsize=(10, 5))\n",
    "yearly_arrests.plot(kind='line', marker='o', color='indigo')\n",
    "plt.title('Total Arrests Under Crimes Against Women (Year-wise)')\n",
    "plt.xlabel('Year')\n",
    "plt.ylabel('Persons Arrested')\n",
    "plt.grid(True)\n",
    "plt.tight_layout()\n",
    "plt.show()\n",
    "\n"
   ]
  },
  {
   "cell_type": "markdown",
   "metadata": {
    "id": "D7Qw-Y5jVNQv"
   },
   "source": [
    "###  Top 10 States by Arrests (Latest Year)\n",
    "We identify the top Indian states with the highest number of persons arrested in the most recent year available in the dataset.\n"
   ]
  },
  {
   "cell_type": "code",
   "execution_count": null,
   "metadata": {
    "colab": {
     "base_uri": "https://localhost:8080/",
     "height": 708
    },
    "id": "zEHVUhDUVPh0",
    "outputId": "edef3586-75c6-49cb-ab06-579d39978412"
   },
   "outputs": [],
   "source": [
    "latest_year_arrests = arrests_df['year'].max()\n",
    "\n",
    "top_states_arrests = (\n",
    "    arrests_df[arrests_df['year'] == latest_year_arrests]\n",
    "    .groupby('area_name')['persons_arrested']\n",
    "    .sum()\n",
    "    .sort_values(ascending=False)\n",
    "    .head(10)\n",
    ")\n",
    "\n",
    "plt.figure(figsize=(10, 6))\n",
    "sns.barplot(x=top_states_arrests.values, y=top_states_arrests.index, palette='mako')\n",
    "plt.title(f'Top 10 States by Arrests in {latest_year_arrests}')\n",
    "plt.xlabel('Persons Arrested')\n",
    "plt.ylabel('State/UT')\n",
    "plt.tight_layout()\n",
    "plt.show()\n"
   ]
  },
  {
   "cell_type": "markdown",
   "metadata": {
    "id": "2ZtvoRYCVTDH"
   },
   "source": [
    "### Most Arrested Crime Subgroups\n",
    "This section analyzes which subcategories of crimes against women have led to the highest number of arrests. By grouping the data by `sub_group_name`, we can identify recurring areas where enforcement has been most active and visualize how arrests in these subgroups have changed over the years.\n"
   ]
  },
  {
   "cell_type": "code",
   "execution_count": null,
   "metadata": {
    "colab": {
     "base_uri": "https://localhost:8080/",
     "height": 559
    },
    "id": "Bpd7R6tDVdod",
    "outputId": "0c82d9ca-342e-42eb-a279-7445f1ead82b"
   },
   "outputs": [],
   "source": [
    "top_subgroups = arrests_df.groupby('sub_group_name')['persons_arrested'].sum().sort_values(ascending=False).head(5).index\n",
    "subset = arrests_df[arrests_df['sub_group_name'].isin(top_subgroups)]\n",
    "\n",
    "plt.figure(figsize=(12, 6))\n",
    "sns.lineplot(data=subset, x='year', y='persons_arrested', hue='sub_group_name', marker='o')\n",
    "plt.title('Top 5 Subgroups by Arrests Over Time')\n",
    "plt.xlabel('Year')\n",
    "plt.ylabel('Persons Arrested')\n",
    "plt.grid(True)\n",
    "plt.tight_layout()\n",
    "plt.show()\n"
   ]
  },
  {
   "cell_type": "markdown",
   "metadata": {
    "id": "2NwxSE52Vhko"
   },
   "source": [
    "### State-wise Average Arrests (All Years)\n",
    "To understand geographical variations in enforcement, we compute the average number of persons arrested per state across all available years. This heatmap visualization helps highlight which regions have reported consistently high or low arrest volumes under crimes against women.\n"
   ]
  },
  {
   "cell_type": "code",
   "execution_count": null,
   "metadata": {
    "colab": {
     "base_uri": "https://localhost:8080/",
     "height": 517
    },
    "id": "kq0IExXmVj1S",
    "outputId": "07b0252f-335d-4e63-acb5-4413d6a2b79d"
   },
   "outputs": [],
   "source": [
    "state_avg_arrests = arrests_df.groupby('area_name')['persons_arrested'].mean().sort_values(ascending=False)\n",
    "\n",
    "plt.figure(figsize=(14, 2))\n",
    "sns.heatmap(state_avg_arrests.to_frame().T, cmap='rocket_r', annot=True, cbar_kws={'label': 'Avg Arrests'})\n",
    "plt.title('Average Persons Arrested per State (All Years)')\n",
    "plt.yticks([])\n",
    "plt.xticks(rotation=90)\n",
    "plt.tight_layout()\n",
    "plt.show()\n"
   ]
  },
  {
   "cell_type": "markdown",
   "metadata": {
    "id": "FOlf1th8W9XJ"
   },
   "source": [
    "### Summary of Arrests Dataset Analysis\n",
    "\n",
    "This section explores arrest-related statistics under crimes against women in India, based on data from official sources. The analysis focused on identifying yearly trends, regional patterns, and enforcement distribution.\n",
    "\n",
    "- **Time Coverage:** The dataset spans multiple years, enabling the study of temporal arrest trends.\n",
    "- **Arrest Trends:** Arrests show year-to-year variation, suggesting influences such as legal reforms, awareness campaigns, or changes in enforcement practices.\n",
    "- **State-wise Distribution:** States like Uttar Pradesh and Maharashtra report consistently higher arrest counts, potentially due to larger populations, higher crime incidence, or more rigorous policing.\n",
    "- **Subgroup Analysis:** Subcategories such as \"Cruelty by Husband or Relatives\" dominate the arrest statistics, pointing to persistent societal issues that need systemic attention.\n",
    "- **Geographical Heatmap:** A heatmap visualization of average arrests per state helps identify enforcement intensity and disparities across regions.\n",
    "\n",
    "This dataset complements the case statistics and offers insights into the response of law enforcement across time, crime categories, and states.\n"
   ]
  },
  {
   "cell_type": "markdown",
   "metadata": {
    "id": "YaK4W1mFN4N7"
   },
   "source": [
    "# **3.Murder Victim Analysis by Age and Gender (India)**\n",
    "\n",
    "This notebook explores and analyzes detailed records of murder victims across India, segmented by **age** and **gender** over multiple years and regions. The dataset provides insight into:\n",
    "\n",
    "- Age-specific vulnerability to murder\n",
    "- Trends in murder cases across different states and years\n",
    "- Comparative analysis of age groups: children, youth, middle-aged, and elderly\n",
    "- Detection of systemic patterns using demographic segmentation\n",
    "\n",
    "The primary goals of this analysis are to:\n",
    "- Understand which age groups are most at risk\n",
    "- Examine state-wise and national-level changes over time\n",
    "- Assist policymakers and law enforcement with data-backed insights on homicide trends\n",
    "\n",
    "The analysis includes descriptive statistics, trend visualizations, and advanced demographic breakdowns.\n"
   ]
  },
  {
   "cell_type": "markdown",
   "metadata": {
    "id": "8oBN3qyCX6V8"
   },
   "source": [
    "## Data Loading & Preview\n",
    "\n",
    "We begin by importing the murder victim dataset. This step loads the data and displays its structure, helping us understand the columns and their significance.\n"
   ]
  },
  {
   "cell_type": "code",
   "execution_count": null,
   "metadata": {
    "colab": {
     "base_uri": "https://localhost:8080/",
     "height": 399
    },
    "id": "_mPWAGPVX5_c",
    "outputId": "747585c7-0b35-44a7-9899-55e115d19b13"
   },
   "outputs": [],
   "source": [
    "# Import essential libraries\n",
    "import pandas as pd\n",
    "import matplotlib.pyplot as plt\n",
    "import seaborn as sns\n",
    "\n",
    "# Set seaborn theme\n",
    "sns.set(style=\"whitegrid\")\n",
    "\n",
    "# Load dataset\n",
    "df_murder = pd.read_csv(\"Murder_victim_age_sex.csv\")\n",
    "\n",
    "# Preview\n",
    "df_murder.head()\n"
   ]
  },
  {
   "cell_type": "markdown",
   "metadata": {
    "id": "mi9FMgtEYKy0"
   },
   "source": [
    "## Data Cleaning & Inspection\n",
    "\n",
    "We inspect the dataset for missing values, column types, and inconsistent naming. Column names are cleaned to ensure smooth downstream analysis.\n",
    "**bold text**"
   ]
  },
  {
   "cell_type": "code",
   "execution_count": null,
   "metadata": {
    "colab": {
     "base_uri": "https://localhost:8080/"
    },
    "id": "1iDNCNcWYKiB",
    "outputId": "b8705983-36ce-4ddc-ed82-7fbaacc13ddc"
   },
   "outputs": [],
   "source": [
    "# Check shape and data types\n",
    "print(\"Shape of dataset:\", df_murder.shape)\n",
    "df_murder.info()\n",
    "\n",
    "# Missing values\n",
    "print(\"\\nMissing values per column:\")\n",
    "print(df_murder.isnull().sum())\n",
    "\n",
    "# Clean column names\n",
    "df_murder.columns = df_murder.columns.str.strip().str.replace(' ', '_').str.lower()\n",
    "print(\"\\nCleaned column names:\")\n",
    "print(df_murder.columns.tolist())\n"
   ]
  },
  {
   "cell_type": "markdown",
   "metadata": {
    "id": "iVv2dZtVcZLi"
   },
   "source": [
    "## Year-wise Total Victims by Gender\n",
    "\n",
    "This section compares the number of male and female murder victims reported each year across India.\n"
   ]
  },
  {
   "cell_type": "code",
   "execution_count": null,
   "metadata": {
    "colab": {
     "base_uri": "https://localhost:8080/",
     "height": 501
    },
    "id": "mdtPCxG1cZ7w",
    "outputId": "10fff8b2-4ac6-438a-96e6-d689ff00418a"
   },
   "outputs": [],
   "source": [
    "# Aggregate victims by year and gender\n",
    "victims_by_gender = (\n",
    "    df_murder.groupby(['year', 'group_name'])['victims_total']\n",
    "    .sum()\n",
    "    .unstack()\n",
    ")\n",
    "\n",
    "# Plot\n",
    "victims_by_gender.plot(marker='o', figsize=(10, 5))\n",
    "plt.title(\"Year-wise Total Murder Victims by Gender\")\n",
    "plt.xlabel(\"Year\")\n",
    "plt.ylabel(\"Number of Victims\")\n",
    "plt.legend(title=\"Gender\")\n",
    "plt.grid(True)\n",
    "plt.tight_layout()\n",
    "plt.show()\n"
   ]
  },
  {
   "cell_type": "markdown",
   "metadata": {
    "id": "C0tMyrLMcc8n"
   },
   "source": [
    "## Victim Age Group Distribution (All Years)\n",
    "\n",
    "We analyze which age groups are most affected by murder incidents across India, combining all years and states.\n"
   ]
  },
  {
   "cell_type": "code",
   "execution_count": null,
   "metadata": {
    "colab": {
     "base_uri": "https://localhost:8080/",
     "height": 501
    },
    "id": "sTwomcMvcjC6",
    "outputId": "5f2d4e79-37d3-4649-f1cc-d14e95ef9a06"
   },
   "outputs": [],
   "source": [
    "# Select available age-related columns (reordered logically)\n",
    "age_cols = [\n",
    "    'victims_upto_10_yrs',\n",
    "    'victims_upto_10_15_yrs',\n",
    "    'victims_upto_15_18_yrs',\n",
    "    'victims_upto_18_30_yrs',\n",
    "    'victims_upto_30_50_yrs',\n",
    "    'victims_above_50_yrs'\n",
    "]\n",
    "\n",
    "# Total victims by age group\n",
    "age_group_totals = df_murder[age_cols].sum().sort_values(ascending=False)\n",
    "\n",
    "# Plot\n",
    "plt.figure(figsize=(10, 5))\n",
    "sns.barplot(x=age_group_totals.values, y=age_group_totals.index, palette='mako')\n",
    "plt.title(\"Total Victims by Age Group (All India, All Years)\")\n",
    "plt.xlabel(\"Number of Victims\")\n",
    "plt.ylabel(\"Age Group\")\n",
    "plt.tight_layout()\n",
    "plt.show()\n"
   ]
  },
  {
   "cell_type": "markdown",
   "metadata": {
    "id": "qQoFXsVrclqk"
   },
   "source": [
    "## Average Victims by State (All Years)\n",
    "\n",
    "To identify which states consistently report high numbers of murder victims, we calculate average victims per year for each state.\n"
   ]
  },
  {
   "cell_type": "code",
   "execution_count": null,
   "metadata": {
    "colab": {
     "base_uri": "https://localhost:8080/",
     "height": 794
    },
    "id": "wJlGWlQRcp-R",
    "outputId": "61d0deca-a797-443c-daac-0bdfe6c861a9"
   },
   "outputs": [],
   "source": [
    "# Average victims by state\n",
    "state_avg_victims = df_murder.groupby('area_name')['victims_total'].mean().sort_values(ascending=False)\n",
    "\n",
    "# Plot heatmap\n",
    "plt.figure(figsize=(12, 8))\n",
    "sns.heatmap(state_avg_victims.to_frame().T, cmap='Reds', annot=True, fmt='.0f', cbar_kws={'label': 'Avg Victims'})\n",
    "plt.title(\"Average Number of Murder Victims by State\")\n",
    "plt.xticks(rotation=90)\n",
    "plt.yticks([])\n",
    "plt.tight_layout()\n",
    "plt.show()\n"
   ]
  },
  {
   "cell_type": "markdown",
   "metadata": {
    "id": "EYiBVjBectCa"
   },
   "source": [
    "## Interactive Victim Trend by State & Gender\n",
    "\n",
    "This interactive plot lets users explore murder victim trends for specific states, broken down by gender.\n"
   ]
  },
  {
   "cell_type": "code",
   "execution_count": null,
   "metadata": {
    "colab": {
     "base_uri": "https://localhost:8080/",
     "height": 465,
     "referenced_widgets": [
      "bc424a63f6ab43149d714975516f8603",
      "9a2b3da9f1e34e1cb46c282f0ea3accd",
      "b61e619cf7b54925ac44901117695dac",
      "0542c169b6d1490baa709d22c3762868",
      "950f3eaf7fcd44bfa59c369b387c7b39",
      "6994af411d79453c950e66d8c82847ab",
      "b7e60bc3901c40d3a126017231f52ea3"
     ]
    },
    "id": "4tPz0zlacuaE",
    "outputId": "dde573a1-1a7d-45c5-e3c6-39b0de226348"
   },
   "outputs": [],
   "source": [
    "import ipywidgets as widgets\n",
    "from IPython.display import display\n",
    "\n",
    "# Dropdowns\n",
    "state_dropdown = widgets.Dropdown(options=df_murder['area_name'].unique(), description='State:')\n",
    "display(state_dropdown)\n",
    "\n",
    "def plot_victim_trend(state):\n",
    "    subset = df_murder[df_murder['area_name'] == state]\n",
    "    trend = subset.groupby(['year', 'group_name'])['victims_total'].sum().unstack()\n",
    "    trend.plot(marker='o', figsize=(10, 4))\n",
    "    plt.title(f\"Murder Victims in {state} by Gender Over Time\")\n",
    "    plt.xlabel(\"Year\")\n",
    "    plt.ylabel(\"Number of Victims\")\n",
    "    plt.grid(True)\n",
    "    plt.tight_layout()\n",
    "    plt.show()\n",
    "\n",
    "widgets.interactive(plot_victim_trend, state=state_dropdown)\n"
   ]
  },
  {
   "cell_type": "markdown",
   "metadata": {
    "id": "18eJ6xk4cxPa"
   },
   "source": [
    "## Summary of Murder Victim Demographics Analysis\n",
    "\n",
    "This section explored patterns in murder victim demographics across India, focusing on age and gender distribution.\n",
    "\n",
    "- **Victim Age Group Distribution:** Identified the most affected age groups nationally.\n",
    "- **Gender Trends:** Female and male victims were analyzed year by year.\n",
    "- **State-wise Insights:** Highlighted states with the highest average victim counts.\n",
    "- **Interactive Exploration:** Enabled dynamic selection of states for customized trend views.\n",
    "\n",
    "These insights help reveal regional and demographic vulnerabilities in murder crimes across India.\n"
   ]
  },
  {
   "cell_type": "markdown",
   "metadata": {
    "id": "Hbn6Jty0duVv"
   },
   "source": [
    "# **4. Rape Victim Data Analysis in India**\n",
    "\n",
    "This notebook performs a detailed data analysis of rape victim statistics across Indian states and union territories. The dataset includes segmentation by victim age group, year, and type of rape (incest vs. other), making it possible to uncover patterns, vulnerable demographics, and regional trends.\n",
    "\n",
    "We explore:\n",
    "\n",
    "- National and regional trends over time\n",
    "- Vulnerability by age group\n",
    "- Incest vs. other rape trends\n",
    "- Most affected states\n",
    "- Volatility in crime reporting\n",
    "- Correlation patterns and temporal decomposition\n",
    "\n",
    "The goal is to derive actionable insights for researchers, policy-makers, and public safety planners through statistical summaries and visualizations.\n"
   ]
  },
  {
   "cell_type": "markdown",
   "metadata": {
    "id": "eqiONyPvdweE"
   },
   "source": [
    "## Data Loading & Preview\n",
    "\n",
    "This section loads the dataset containing rape victim statistics across Indian states and UTs, segmented by year, type of rape, and victim age group.\n"
   ]
  },
  {
   "cell_type": "code",
   "execution_count": null,
   "metadata": {
    "colab": {
     "base_uri": "https://localhost:8080/",
     "height": 417
    },
    "id": "X9ah0tzGczRf",
    "outputId": "c472d25f-89ab-4124-cc5c-86b132f58633"
   },
   "outputs": [],
   "source": [
    "# Load dataset\n",
    "import pandas as pd\n",
    "import matplotlib.pyplot as plt\n",
    "import seaborn as sns\n",
    "\n",
    "sns.set(style=\"whitegrid\")\n",
    "\n",
    "df_rape = pd.read_csv(\"Victims_of_rape.csv\")\n",
    "df_rape.head()\n"
   ]
  },
  {
   "cell_type": "markdown",
   "metadata": {
    "id": "I8Xr1nnkd-OI"
   },
   "source": [
    "## Data Inspection & Cleaning\n",
    "\n",
    "We inspect the dataset for structure, missing values, and standardize column names for smooth analysis.\n"
   ]
  },
  {
   "cell_type": "code",
   "execution_count": null,
   "metadata": {
    "colab": {
     "base_uri": "https://localhost:8080/"
    },
    "id": "f-ZJBEDDeBZD",
    "outputId": "29870683-559f-4e70-9970-baf4557a2316"
   },
   "outputs": [],
   "source": [
    "# Data shape and info\n",
    "print(\"Shape:\", df_rape.shape)\n",
    "df_rape.info()\n",
    "\n",
    "# Missing values\n",
    "print(\"\\nMissing values per column:\")\n",
    "print(df_rape.isnull().sum())\n",
    "\n",
    "# Clean column names\n",
    "df_rape.columns = df_rape.columns.str.strip().str.lower().str.replace(' ', '_')\n",
    "print(\"\\nCleaned column names:\")\n",
    "print(df_rape.columns.tolist())\n"
   ]
  },
  {
   "cell_type": "markdown",
   "metadata": {
    "id": "EU-pvbrwejbY"
   },
   "source": [
    "## Total Rape Victims Reported Over Time\n",
    "\n",
    "This visualization shows the total number of rape victims reported across India each year. It helps identify long-term trends and patterns in reporting.\n"
   ]
  },
  {
   "cell_type": "code",
   "execution_count": null,
   "metadata": {
    "colab": {
     "base_uri": "https://localhost:8080/",
     "height": 501
    },
    "id": "5doucXcFeA7s",
    "outputId": "fe756824-25b4-40e0-a98b-810c925410e5"
   },
   "outputs": [],
   "source": [
    "# Filter for only total rape victim rows\n",
    "rape_total = df_rape[df_rape['subgroup'] == 'Total Rape Victims']\n",
    "\n",
    "# Group by year\n",
    "total_by_year = rape_total.groupby('year')['victims_of_rape_total'].sum()\n",
    "\n",
    "# Plot\n",
    "plt.figure(figsize=(10, 5))\n",
    "sns.lineplot(x=total_by_year.index, y=total_by_year.values, marker='o', color='crimson')\n",
    "plt.title(\"Total Rape Victims Reported Per Year in India\")\n",
    "plt.xlabel(\"Year\")\n",
    "plt.ylabel(\"Number of Victims\")\n",
    "plt.grid(True)\n",
    "plt.tight_layout()\n",
    "plt.show()\n"
   ]
  },
  {
   "cell_type": "markdown",
   "metadata": {
    "id": "yHEbqRtrepiO"
   },
   "source": [
    "## Age Distribution of Rape Victims\n",
    "\n",
    "We analyze the cumulative number of victims in each age group across all years to determine which age demographics are most vulnerable.\n"
   ]
  },
  {
   "cell_type": "code",
   "execution_count": null,
   "metadata": {
    "colab": {
     "base_uri": "https://localhost:8080/",
     "height": 601
    },
    "id": "_X4lQT1YerIw",
    "outputId": "fef13e1d-d535-4cef-a6a7-e25bf740081d"
   },
   "outputs": [],
   "source": [
    "# Define age-related columns\n",
    "age_columns = [\n",
    "    'victims_upto_10_yrs', 'victims_between_10-14_yrs', 'victims_between_14-18_yrs',\n",
    "    'victims_between_18-30_yrs', 'victims_between_30-50_yrs', 'victims_above_50_yrs'\n",
    "]\n",
    "\n",
    "# Sum total victims by age group\n",
    "age_distribution = rape_total[age_columns].sum().sort_values(ascending=False)\n",
    "\n",
    "# Plot\n",
    "plt.figure(figsize=(10, 6))\n",
    "sns.barplot(x=age_distribution.values, y=age_distribution.index, palette='mako')\n",
    "plt.title(\"Cumulative Rape Victims by Age Group (All Years)\")\n",
    "plt.xlabel(\"Total Victims\")\n",
    "plt.ylabel(\"Age Group\")\n",
    "plt.tight_layout()\n",
    "plt.show()\n"
   ]
  },
  {
   "cell_type": "markdown",
   "metadata": {
    "id": "YuLaNC8NfEuu"
   },
   "source": [
    "## Top 10 States by Reported Rape Cases (Latest Year)\n",
    "\n",
    "This section shows the states with the highest number of rape victims in the most recent year.\n"
   ]
  },
  {
   "cell_type": "code",
   "execution_count": null,
   "metadata": {
    "colab": {
     "base_uri": "https://localhost:8080/",
     "height": 601
    },
    "id": "yxJLWf8efIrm",
    "outputId": "f81376b3-a660-4ca0-9bf4-4d1e7006e6a9"
   },
   "outputs": [],
   "source": [
    "# Latest year\n",
    "latest_year = rape_total['year'].max()\n",
    "\n",
    "# Filter and group\n",
    "top_states = (\n",
    "    rape_total[rape_total['year'] == latest_year]\n",
    "    .groupby('area_name')['victims_of_rape_total']\n",
    "    .sum()\n",
    "    .sort_values(ascending=False)\n",
    "    .head(10)\n",
    ")\n",
    "\n",
    "# Plot\n",
    "plt.figure(figsize=(10, 6))\n",
    "sns.barplot(x=top_states.values, y=top_states.index, palette='Reds_r')\n",
    "plt.title(f\"Top 10 States by Rape Victims in {latest_year}\")\n",
    "plt.xlabel(\"Number of Victims\")\n",
    "plt.ylabel(\"State\")\n",
    "plt.tight_layout()\n",
    "plt.show()\n"
   ]
  },
  {
   "cell_type": "markdown",
   "metadata": {
    "id": "jVF7I3TZfMYT"
   },
   "source": [
    "## Incest vs. Other Rape Victim Trends\n",
    "\n",
    "Compare how the number of incest rape and other rape victims have changed over the years.\n"
   ]
  },
  {
   "cell_type": "code",
   "execution_count": null,
   "metadata": {
    "colab": {
     "base_uri": "https://localhost:8080/",
     "height": 501
    },
    "id": "jvNWbLc4fOwt",
    "outputId": "dd304202-6542-4ef5-b910-451212ce8ede"
   },
   "outputs": [],
   "source": [
    "# Filter only two subgroups\n",
    "types_df = df_rape[df_rape['subgroup'].isin(['Victims of Incest Rape', 'Victims of Other Rape'])]\n",
    "\n",
    "# Group and pivot\n",
    "type_trend = types_df.groupby(['year', 'subgroup'])['victims_of_rape_total'].sum().unstack()\n",
    "\n",
    "# Plot\n",
    "type_trend.plot(marker='o', figsize=(10, 5))\n",
    "plt.title(\"Incest vs Other Rape Victims (Yearly Trend)\")\n",
    "plt.xlabel(\"Year\")\n",
    "plt.ylabel(\"Number of Victims\")\n",
    "plt.grid(True)\n",
    "plt.tight_layout()\n",
    "plt.show()\n"
   ]
  },
  {
   "cell_type": "markdown",
   "metadata": {
    "id": "YvbCuf2AfRjX"
   },
   "source": [
    "## Most Volatile States (YoY Change in Victim Counts)\n",
    "\n",
    "This analysis identifies which states show the most inconsistent or volatile reporting trends of rape victims year-over-year. This may reflect sudden policy changes, improved reporting, or systemic underreporting.\n"
   ]
  },
  {
   "cell_type": "code",
   "execution_count": null,
   "metadata": {
    "colab": {
     "base_uri": "https://localhost:8080/",
     "height": 501
    },
    "id": "m4-QTlh9fZYL",
    "outputId": "a7c324ea-fa4b-4b71-f182-72a741c0def3"
   },
   "outputs": [],
   "source": [
    "# Pivot by year and state\n",
    "pivot_state_year = rape_total.pivot_table(\n",
    "    index='year', columns='area_name', values='victims_of_rape_total', aggfunc='sum'\n",
    ")\n",
    "\n",
    "# Year-over-Year % change and mean of changes\n",
    "yoy_change = pivot_state_year.pct_change().mean(axis=0).sort_values(ascending=False)\n",
    "\n",
    "# Clean infinite values\n",
    "yoy_change_cleaned = yoy_change.replace([float('inf'), -float('inf')], pd.NA).dropna()\n",
    "\n",
    "# Top 5 most volatile states\n",
    "top_volatile_states = yoy_change_cleaned.head(5)\n",
    "\n",
    "# Plot\n",
    "plt.figure(figsize=(10, 5))\n",
    "sns.barplot(x=top_volatile_states.values, y=top_volatile_states.index, palette='crest')\n",
    "plt.title(\"Top 5 Most Volatile States in Rape Reporting (YoY % Change)\")\n",
    "plt.xlabel(\"Average Year-over-Year % Change\")\n",
    "plt.ylabel(\"State/UT\")\n",
    "plt.tight_layout()\n",
    "plt.show()\n"
   ]
  },
  {
   "cell_type": "markdown",
   "metadata": {
    "id": "H9vLfGEpfb6B"
   },
   "source": [
    "## Correlation Between Victim Age Groups\n",
    "\n",
    "We examine whether trends in one age group correlate with others. A strong correlation might indicate structural or systemic patterns.\n"
   ]
  },
  {
   "cell_type": "code",
   "execution_count": null,
   "metadata": {
    "colab": {
     "base_uri": "https://localhost:8080/",
     "height": 601
    },
    "id": "x5szxMlyfdQP",
    "outputId": "e8f10d8e-5911-41af-f540-2fc56b867f3e"
   },
   "outputs": [],
   "source": [
    "# Group by year and sum age groups\n",
    "age_columns = [\n",
    "    'victims_upto_10_yrs', 'victims_between_10-14_yrs',\n",
    "    'victims_between_14-18_yrs', 'victims_between_18-30_yrs',\n",
    "    'victims_between_30-50_yrs', 'victims_above_50_yrs'\n",
    "]\n",
    "\n",
    "age_df = rape_total.groupby('year')[age_columns].sum()\n",
    "\n",
    "# Correlation matrix\n",
    "corr = age_df.corr()\n",
    "\n",
    "# Plot heatmap\n",
    "plt.figure(figsize=(10, 6))\n",
    "sns.heatmap(corr, annot=True, cmap='vlag', fmt=\".2f\")\n",
    "plt.title(\"Correlation Between Victim Age Groups\")\n",
    "plt.tight_layout()\n",
    "plt.show()\n"
   ]
  },
  {
   "cell_type": "markdown",
   "metadata": {
    "id": "fWm9tq2Hfg8F"
   },
   "source": [
    "## Age Vulnerability Comparison by Region (Faceted View)\n",
    "\n",
    "This visualization compares the vulnerability across different age groups in multiple states using small multiple line plots.\n"
   ]
  },
  {
   "cell_type": "code",
   "execution_count": null,
   "metadata": {
    "colab": {
     "base_uri": "https://localhost:8080/",
     "height": 632
    },
    "id": "XZNBs0rifhVP",
    "outputId": "127ed291-47cd-41c2-fae5-904749f5a442"
   },
   "outputs": [],
   "source": [
    "# Filter for a few states for comparison\n",
    "selected_states = ['Madhya Pradesh', 'Rajasthan', 'Uttar Pradesh', 'Delhi', 'Bihar']\n",
    "subset = rape_total[rape_total['area_name'].isin(selected_states)]\n",
    "\n",
    "# Melt data for seaborn facet grid\n",
    "melted = subset.melt(\n",
    "    id_vars=['year', 'area_name'],\n",
    "    value_vars=age_columns,\n",
    "    var_name='age_group',\n",
    "    value_name='victim_count'\n",
    ")\n",
    "\n",
    "# Create FacetGrid\n",
    "g = sns.FacetGrid(melted, col='area_name', col_wrap=3, height=4, sharey=False)\n",
    "g.map_dataframe(sns.lineplot, x='year', y='victim_count', hue='age_group', marker='o')\n",
    "g.add_legend()\n",
    "g.set_titles(\"{col_name}\")\n",
    "g.set_axis_labels(\"Year\", \"Victim Count\")\n",
    "plt.suptitle(\"Victim Age Group Trends by Region\", fontsize=16, y=1.02)\n",
    "plt.tight_layout()\n",
    "plt.show()\n"
   ]
  },
  {
   "cell_type": "markdown",
   "metadata": {
    "id": "OJT__Q2vfoj1"
   },
   "source": [
    "## Summary: Rape Victim Analysis (India)\n",
    "\n",
    "This notebook presents an extensive analysis of rape victim statistics in India based on demographic and regional breakdowns. The dataset covers:\n",
    "\n",
    "- **Temporal Trends**: National rise and fall in rape victim counts year-over-year.\n",
    "- **Age Vulnerability**: Women aged **18–30 years** represent the most vulnerable group, followed by **30–50 years** and **14–18 years**, together accounting for over 80% of reported cases.\n",
    "- **Regional Distribution**: States like **Madhya Pradesh, Rajasthan, Uttar Pradesh, Delhi, and Bihar** report the highest counts consistently.\n",
    "- **Rape Type Dynamics**: Comparison between incest and non-incest rape reveals that the majority of cases are non-incest, although incest cases also show concerning trends.\n",
    "- **State Volatility**: States such as **Dadra & Nagar Haveli**, **Chandigarh**, and **Goa** exhibit the most erratic year-over-year changes in reporting, which may reflect improvements in reporting mechanisms or societal pressure.\n",
    "- **Correlation Analysis**: Victim counts across age groups show high correlation, indicating systemic demographic trends in targeting.\n",
    "- **Faceted Analysis**: Regional comparison using small multiples visually demonstrates distinct victim patterns per age group across states.\n",
    "\n",
    "This analysis provides a holistic view to support data-driven discussions on gender-based violence, victim protection, state performance, and policy effectiveness.\n"
   ]
  },
  {
   "cell_type": "markdown",
   "metadata": {
    "id": "mMVLtwB1FW9C"
   },
   "source": [
    "# **5. Property Theft & Recovery Analysis in India**\n",
    "\n",
    "This notebook presents a comprehensive analysis of property-related crimes across Indian states and union territories from 2001 onwards. It focuses on:\n",
    "- Theft incidents (number and value)\n",
    "- Recovery effectiveness\n",
    "- State-wise comparison\n",
    "- Temporal trends and ratios\n",
    "- Advanced insights using visual and statistical techniques\n",
    "\n",
    "The goal is to derive actionable insights that help inform law enforcement policy, resource allocation, and crime prevention strategies.\n",
    "**bold text**"
   ]
  },
  {
   "cell_type": "markdown",
   "metadata": {
    "id": "BTZ10ND9F4Tf"
   },
   "source": [
    "### Load, Preview, and Clean the Dataset\n",
    "\n",
    "We begin by importing the dataset containing records of property stolen and recovered across Indian states and union territories. The column names are cleaned for consistency by converting to lowercase, removing whitespace, and replacing spaces/newlines with underscores. Missing values are also identified to assess data quality.\n",
    "\n"
   ]
  },
  {
   "cell_type": "code",
   "execution_count": null,
   "metadata": {
    "colab": {
     "base_uri": "https://localhost:8080/",
     "height": 555
    },
    "id": "Oi4MuTSCFWJh",
    "outputId": "16c8d1a3-07e6-431b-89c5-3f11c29b11fc"
   },
   "outputs": [],
   "source": [
    "#  Import the dataset while skipping malformed rows\n",
    "df = pd.read_csv('Property_stolen_and_recovered.csv', on_bad_lines='skip')\n",
    "\n",
    "#  Preview the top records\n",
    "display(df.head())\n",
    "\n",
    "#  Clean column names: make them lowercase, strip spaces, and replace spaces/newlines with underscores\n",
    "df.columns = df.columns.str.strip().str.replace('\\n', ' ').str.replace(' ', '_').str.lower()\n",
    "\n",
    "#  Show cleaned column names\n",
    "print(\"Cleaned Column Names:\\n\", df.columns.tolist())\n",
    "\n",
    "#  Check for missing values\n",
    "print(\"\\n Missing values per column:\\n\", df.isnull().sum())\n"
   ]
  },
  {
   "cell_type": "markdown",
   "metadata": {
    "id": "LdA7CY9CHsMZ"
   },
   "source": [
    "### Dataset Structure and Summary\n",
    "\n",
    "This block displays the shape of the dataset and provides a structural summary using `.info()`. It helps in understanding the number of records, column data types, and the presence of null values.\n"
   ]
  },
  {
   "cell_type": "code",
   "execution_count": null,
   "metadata": {
    "colab": {
     "base_uri": "https://localhost:8080/"
    },
    "id": "h8YdPLYxHxaa",
    "outputId": "e42d6706-6a4f-4fdb-a9ff-2ff151537072"
   },
   "outputs": [],
   "source": [
    "# Understand structure and datatypes\n",
    "print(\"Shape:\", df.shape)\n",
    "df.info()\n"
   ]
  },
  {
   "cell_type": "markdown",
   "metadata": {
    "id": "0SR3FeBjIPCw"
   },
   "source": [
    "###Total Property Stolen and Recovered Over Time\n",
    "\n",
    "Here, we analyze national-level annual trends in the total value of property stolen and recovered. The plot highlights how both these values have evolved over the years, revealing the gap between criminal activity and successful recovery efforts.\n"
   ]
  },
  {
   "cell_type": "code",
   "execution_count": null,
   "metadata": {
    "colab": {
     "base_uri": "https://localhost:8080/",
     "height": 497
    },
    "id": "NTtgRWDvISol",
    "outputId": "11003ea3-3aed-425c-a84f-b2a936b601e3"
   },
   "outputs": [],
   "source": [
    "#  Group by year with correct column names\n",
    "annual = df.groupby('year')[['value_of_property_stolen', 'value_of_property_recovered']].sum()\n",
    "\n",
    "#  Plot trends\n",
    "plt.figure(figsize=(12, 6))\n",
    "annual.plot(marker='o')\n",
    "plt.title('Annual Property Stolen vs Recovered (All-India)')\n",
    "plt.ylabel('Value in ₹')\n",
    "plt.grid(True)\n",
    "plt.xticks(rotation=45)\n",
    "plt.tight_layout()\n",
    "plt.show()\n",
    "\n"
   ]
  },
  {
   "cell_type": "markdown",
   "metadata": {
    "id": "lvb8zlCxItKP"
   },
   "source": [
    "### Step 4: National Property Recovery Rate Trend\n",
    "\n",
    "This section calculates and visualizes the recovery rate as a percentage of property recovered versus stolen each year. It is a key metric to assess the efficiency of law enforcement and the justice system in recovering lost property.\n"
   ]
  },
  {
   "cell_type": "code",
   "execution_count": null,
   "metadata": {
    "colab": {
     "base_uri": "https://localhost:8080/",
     "height": 496
    },
    "id": "iNJIs78uIzkc",
    "outputId": "5d42c4ee-b610-4791-a6e6-9390f38f7f57"
   },
   "outputs": [],
   "source": [
    "#  Compute national recovery rate\n",
    "annual['recovery_rate_%'] = (annual['value_of_property_recovered'] / annual['value_of_property_stolen']) * 100\n",
    "\n",
    "#  Plot\n",
    "plt.figure(figsize=(10, 5))\n",
    "annual['recovery_rate_%'].plot(marker='o', color='green')\n",
    "plt.title('National Property Recovery Rate Over Time')\n",
    "plt.ylabel('Recovery Rate (%)')\n",
    "plt.grid(True)\n",
    "plt.show()\n"
   ]
  },
  {
   "cell_type": "markdown",
   "metadata": {
    "id": "UXA69dlpI24x"
   },
   "source": [
    "## Most Targeted Property Categories (By Value)\n",
    "\n",
    "We group data by property type and calculate the total value stolen for each category. This bar chart highlights which types of property are most frequently targeted by criminals, helping identify vulnerable sectors.\n"
   ]
  },
  {
   "cell_type": "code",
   "execution_count": null,
   "metadata": {
    "colab": {
     "base_uri": "https://localhost:8080/",
     "height": 490
    },
    "id": "vtkCsFEsJG3l",
    "outputId": "2accaf0f-9815-48c4-c1bc-144c43fc6545"
   },
   "outputs": [],
   "source": [
    "top_types = df.groupby('sub_group_name')['value_of_property_stolen'].sum().sort_values(ascending=False).head(7)\n",
    "\n",
    "plt.figure(figsize=(10, 5))\n",
    "sns.barplot(x=top_types.values, y=top_types.index, palette='Reds_d')\n",
    "plt.title('Top 7 Stolen Property Categories (by Subgroup)')\n",
    "plt.xlabel('Total Value Stolen (₹)')\n",
    "plt.ylabel('Crime Subgroup')\n",
    "plt.show()\n"
   ]
  },
  {
   "cell_type": "markdown",
   "metadata": {
    "id": "fUlMUOyIJOyF"
   },
   "source": [
    "### Recovery Efficiency by Property Type\n",
    "\n",
    "By comparing stolen and recovered values for each property type, we compute the recovery rate per category. The top 10 property types with the highest recovery rates are visualized, offering insights into which types are easier or harder to retrieve.\n"
   ]
  },
  {
   "cell_type": "code",
   "execution_count": null,
   "metadata": {
    "colab": {
     "base_uri": "https://localhost:8080/",
     "height": 566
    },
    "id": "SKoYmUrqJRnq",
    "outputId": "2f2236df-ca83-491f-8515-f4c1d97656e4"
   },
   "outputs": [],
   "source": [
    "recovery_by_type = df.groupby('sub_group_name')[\n",
    "    ['value_of_property_stolen', 'value_of_property_recovered']\n",
    "].sum()\n",
    "recovery_by_type['recovery_rate_%'] = (\n",
    "    recovery_by_type['value_of_property_recovered'] / recovery_by_type['value_of_property_stolen']\n",
    ") * 100\n",
    "\n",
    "top_recovery = recovery_by_type.sort_values('recovery_rate_%', ascending=False).head(10)\n",
    "\n",
    "plt.figure(figsize=(10, 6))\n",
    "sns.barplot(x=top_recovery['recovery_rate_%'], y=top_recovery.index, palette='Greens_d')\n",
    "plt.title('Top 10 Property Subgroups by Recovery Rate')\n",
    "plt.xlabel('Recovery Rate (%)')\n",
    "plt.ylabel('Subgroup')\n",
    "plt.show()\n"
   ]
  },
  {
   "cell_type": "markdown",
   "metadata": {
    "id": "pQt35G6hJXYe"
   },
   "source": [
    "### State-Wise Theft in the Latest Year\n",
    "\n",
    "This step focuses on the most recent year and shows which states reported the highest total value of stolen property. This geographic analysis helps pinpoint high-risk regions needing more preventive or recovery efforts.\n"
   ]
  },
  {
   "cell_type": "code",
   "execution_count": null,
   "metadata": {
    "colab": {
     "base_uri": "https://localhost:8080/",
     "height": 496
    },
    "id": "C4x9dLnVJgre",
    "outputId": "be8aa68b-9fb4-4ff8-f045-c240e0ef67f6"
   },
   "outputs": [],
   "source": [
    "latest_year = df['year'].max()\n",
    "statewise_latest = df[df['year'] == latest_year].groupby('area_name')['value_of_property_stolen'].sum().sort_values(ascending=False).head(10)\n",
    "\n",
    "plt.figure(figsize=(10, 5))\n",
    "sns.barplot(x=statewise_latest.values, y=statewise_latest.index, palette='Blues_r')\n",
    "plt.title(f'Top 10 Areas by Property Stolen in {latest_year}')\n",
    "plt.xlabel('Value of Property Stolen (₹)')\n",
    "plt.ylabel('State/UT')\n",
    "plt.show()\n"
   ]
  },
  {
   "cell_type": "markdown",
   "metadata": {
    "id": "-m0DNlFMJk5k"
   },
   "source": [
    "### Forecasting Property Theft for Next Year\n",
    "\n",
    "Using linear regression on the annual stolen property values, we forecast the expected total value of property theft for the upcoming year. This prediction can aid in budgeting for preventive measures and law enforcement planning.\n"
   ]
  },
  {
   "cell_type": "code",
   "execution_count": null,
   "metadata": {
    "colab": {
     "base_uri": "https://localhost:8080/"
    },
    "id": "jTQRSQAiJo9N",
    "outputId": "9175c28d-e8cd-4503-8aa9-c76c71d1c8b7"
   },
   "outputs": [],
   "source": [
    "#  Prepare data for regression model\n",
    "X = np.array(annual.index).reshape(-1, 1)\n",
    "y = annual['value_of_property_stolen'].values  # ✅ use the correct column name\n",
    "\n",
    "#  Fit linear regression\n",
    "model = LinearRegression()\n",
    "model.fit(X, y)\n",
    "\n",
    "#  Predict for next year\n",
    "next_year = X[-1][0] + 1\n",
    "predicted_value = model.predict([[next_year]])\n",
    "\n",
    "#  Output prediction\n",
    "print(f\" Predicted Value of Property Stolen in {next_year}: ₹{int(predicted_value[0]):,}\")\n",
    "\n"
   ]
  },
  {
   "cell_type": "markdown",
   "metadata": {
    "id": "y4bpegIXJ7a4"
   },
   "source": [
    "###Final Summary and Key Takeaways\n",
    "\n",
    "This final section highlights major takeaways from the analysis, including:\n",
    "- Time span of the data,\n",
    "- Overall trends,\n",
    "- Average national recovery efficiency,\n",
    "- Most vulnerable property types,\n",
    "- High-risk states, and\n",
    "- Forecasted crime levels.\n",
    "\n",
    "These insights can inform smarter resource allocation, strategic interventions, and future research.\n"
   ]
  }
 ],
 "metadata": {
  "colab": {
   "provenance": []
  },
  "kernelspec": {
   "display_name": "Python 3",
   "name": "python3"
  },
  "language_info": {
   "name": "python"
  },
  "widgets": {
   "application/vnd.jupyter.widget-state+json": {
    "0542c169b6d1490baa709d22c3762868": {
     "model_module": "@jupyter-widgets/controls",
     "model_module_version": "1.5.0",
     "model_name": "VBoxModel",
     "state": {
      "_dom_classes": [
       "widget-interact"
      ],
      "_model_module": "@jupyter-widgets/controls",
      "_model_module_version": "1.5.0",
      "_model_name": "VBoxModel",
      "_view_count": null,
      "_view_module": "@jupyter-widgets/controls",
      "_view_module_version": "1.5.0",
      "_view_name": "VBoxView",
      "box_style": "",
      "children": [
       "IPY_MODEL_bc424a63f6ab43149d714975516f8603",
       "IPY_MODEL_950f3eaf7fcd44bfa59c369b387c7b39"
      ],
      "layout": "IPY_MODEL_6994af411d79453c950e66d8c82847ab"
     }
    },
    "23d8829a603747198f9d2a33fa11324a": {
     "model_module": "@jupyter-widgets/controls",
     "model_module_version": "1.5.0",
     "model_name": "DropdownModel",
     "state": {
      "_dom_classes": [],
      "_model_module": "@jupyter-widgets/controls",
      "_model_module_version": "1.5.0",
      "_model_name": "DropdownModel",
      "_options_labels": [
       "Andaman & Nicobar Islands",
       "Andhra Pradesh",
       "Arunachal Pradesh",
       "Assam",
       "Bihar",
       "Chandigarh",
       "Chhattisgarh",
       "Dadra & Nagar Haveli",
       "Daman & Diu",
       "Delhi",
       "Goa",
       "Gujarat",
       "Haryana",
       "Himachal Pradesh",
       "Jammu & Kashmir",
       "Jharkhand",
       "Karnataka",
       "Kerala",
       "Lakshadweep",
       "Madhya Pradesh",
       "Maharashtra",
       "Manipur",
       "Meghalaya",
       "Mizoram",
       "Nagaland",
       "Odisha",
       "Puducherry",
       "Punjab",
       "Rajasthan",
       "Sikkim",
       "Tamil Nadu",
       "Tripura",
       "Uttar Pradesh",
       "Uttarakhand",
       "West Bengal"
      ],
      "_view_count": null,
      "_view_module": "@jupyter-widgets/controls",
      "_view_module_version": "1.5.0",
      "_view_name": "DropdownView",
      "description": "State:",
      "description_tooltip": null,
      "disabled": false,
      "index": 0,
      "layout": "IPY_MODEL_d60d337e081d4929b0deac48a9f80f68",
      "style": "IPY_MODEL_ce11d528299940c78692bce687967478"
     }
    },
    "32e1e9f1f0f84a93bf451b78f049fd2b": {
     "model_module": "@jupyter-widgets/base",
     "model_module_version": "1.2.0",
     "model_name": "LayoutModel",
     "state": {
      "_model_module": "@jupyter-widgets/base",
      "_model_module_version": "1.2.0",
      "_model_name": "LayoutModel",
      "_view_count": null,
      "_view_module": "@jupyter-widgets/base",
      "_view_module_version": "1.2.0",
      "_view_name": "LayoutView",
      "align_content": null,
      "align_items": null,
      "align_self": null,
      "border": null,
      "bottom": null,
      "display": null,
      "flex": null,
      "flex_flow": null,
      "grid_area": null,
      "grid_auto_columns": null,
      "grid_auto_flow": null,
      "grid_auto_rows": null,
      "grid_column": null,
      "grid_gap": null,
      "grid_row": null,
      "grid_template_areas": null,
      "grid_template_columns": null,
      "grid_template_rows": null,
      "height": null,
      "justify_content": null,
      "justify_items": null,
      "left": null,
      "margin": null,
      "max_height": null,
      "max_width": null,
      "min_height": null,
      "min_width": null,
      "object_fit": null,
      "object_position": null,
      "order": null,
      "overflow": null,
      "overflow_x": null,
      "overflow_y": null,
      "padding": null,
      "right": null,
      "top": null,
      "visibility": null,
      "width": null
     }
    },
    "3a721ce419c64a05bc00e70b37ba26f0": {
     "model_module": "@jupyter-widgets/output",
     "model_module_version": "1.0.0",
     "model_name": "OutputModel",
     "state": {
      "_dom_classes": [],
      "_model_module": "@jupyter-widgets/output",
      "_model_module_version": "1.0.0",
      "_model_name": "OutputModel",
      "_view_count": null,
      "_view_module": "@jupyter-widgets/output",
      "_view_module_version": "1.0.0",
      "_view_name": "OutputView",
      "layout": "IPY_MODEL_672c8c1c1346418f858a39047e7b29f5",
      "msg_id": "",
      "outputs": [
       {
        "data": {
         "image/png": "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\n",
         "text/plain": "<Figure size 1000x400 with 1 Axes>"
        },
        "metadata": {},
        "output_type": "display_data"
       }
      ]
     }
    },
    "4180dd34625d410a9c7dcf058d190a81": {
     "model_module": "@jupyter-widgets/controls",
     "model_module_version": "1.5.0",
     "model_name": "DropdownModel",
     "state": {
      "_dom_classes": [],
      "_model_module": "@jupyter-widgets/controls",
      "_model_module_version": "1.5.0",
      "_model_name": "DropdownModel",
      "_options_labels": [
       "01. Rape",
       "02. Kidnapping & Abduction of Women & Girls",
       "03. Dowry Deaths",
       "04. Molestation",
       "05. Sexual Harassment",
       "06. Cruelty by Husband and Relatives",
       "07. Importation of Girls",
       "12. Total Crimes Against Women"
      ],
      "_view_count": null,
      "_view_module": "@jupyter-widgets/controls",
      "_view_module_version": "1.5.0",
      "_view_name": "DropdownView",
      "description": "Subgroup:",
      "description_tooltip": null,
      "disabled": false,
      "index": 0,
      "layout": "IPY_MODEL_32e1e9f1f0f84a93bf451b78f049fd2b",
      "style": "IPY_MODEL_f17dc0fb865140d38a3f10c4eb33364e"
     }
    },
    "672c8c1c1346418f858a39047e7b29f5": {
     "model_module": "@jupyter-widgets/base",
     "model_module_version": "1.2.0",
     "model_name": "LayoutModel",
     "state": {
      "_model_module": "@jupyter-widgets/base",
      "_model_module_version": "1.2.0",
      "_model_name": "LayoutModel",
      "_view_count": null,
      "_view_module": "@jupyter-widgets/base",
      "_view_module_version": "1.2.0",
      "_view_name": "LayoutView",
      "align_content": null,
      "align_items": null,
      "align_self": null,
      "border": null,
      "bottom": null,
      "display": null,
      "flex": null,
      "flex_flow": null,
      "grid_area": null,
      "grid_auto_columns": null,
      "grid_auto_flow": null,
      "grid_auto_rows": null,
      "grid_column": null,
      "grid_gap": null,
      "grid_row": null,
      "grid_template_areas": null,
      "grid_template_columns": null,
      "grid_template_rows": null,
      "height": null,
      "justify_content": null,
      "justify_items": null,
      "left": null,
      "margin": null,
      "max_height": null,
      "max_width": null,
      "min_height": null,
      "min_width": null,
      "object_fit": null,
      "object_position": null,
      "order": null,
      "overflow": null,
      "overflow_x": null,
      "overflow_y": null,
      "padding": null,
      "right": null,
      "top": null,
      "visibility": null,
      "width": null
     }
    },
    "6994af411d79453c950e66d8c82847ab": {
     "model_module": "@jupyter-widgets/base",
     "model_module_version": "1.2.0",
     "model_name": "LayoutModel",
     "state": {
      "_model_module": "@jupyter-widgets/base",
      "_model_module_version": "1.2.0",
      "_model_name": "LayoutModel",
      "_view_count": null,
      "_view_module": "@jupyter-widgets/base",
      "_view_module_version": "1.2.0",
      "_view_name": "LayoutView",
      "align_content": null,
      "align_items": null,
      "align_self": null,
      "border": null,
      "bottom": null,
      "display": null,
      "flex": null,
      "flex_flow": null,
      "grid_area": null,
      "grid_auto_columns": null,
      "grid_auto_flow": null,
      "grid_auto_rows": null,
      "grid_column": null,
      "grid_gap": null,
      "grid_row": null,
      "grid_template_areas": null,
      "grid_template_columns": null,
      "grid_template_rows": null,
      "height": null,
      "justify_content": null,
      "justify_items": null,
      "left": null,
      "margin": null,
      "max_height": null,
      "max_width": null,
      "min_height": null,
      "min_width": null,
      "object_fit": null,
      "object_position": null,
      "order": null,
      "overflow": null,
      "overflow_x": null,
      "overflow_y": null,
      "padding": null,
      "right": null,
      "top": null,
      "visibility": null,
      "width": null
     }
    },
    "950f3eaf7fcd44bfa59c369b387c7b39": {
     "model_module": "@jupyter-widgets/output",
     "model_module_version": "1.0.0",
     "model_name": "OutputModel",
     "state": {
      "_dom_classes": [],
      "_model_module": "@jupyter-widgets/output",
      "_model_module_version": "1.0.0",
      "_model_name": "OutputModel",
      "_view_count": null,
      "_view_module": "@jupyter-widgets/output",
      "_view_module_version": "1.0.0",
      "_view_name": "OutputView",
      "layout": "IPY_MODEL_b7e60bc3901c40d3a126017231f52ea3",
      "msg_id": "",
      "outputs": [
       {
        "data": {
         "image/png": "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\n",
         "text/plain": "<Figure size 1000x400 with 1 Axes>"
        },
        "metadata": {},
        "output_type": "display_data"
       }
      ]
     }
    },
    "9a2b3da9f1e34e1cb46c282f0ea3accd": {
     "model_module": "@jupyter-widgets/base",
     "model_module_version": "1.2.0",
     "model_name": "LayoutModel",
     "state": {
      "_model_module": "@jupyter-widgets/base",
      "_model_module_version": "1.2.0",
      "_model_name": "LayoutModel",
      "_view_count": null,
      "_view_module": "@jupyter-widgets/base",
      "_view_module_version": "1.2.0",
      "_view_name": "LayoutView",
      "align_content": null,
      "align_items": null,
      "align_self": null,
      "border": null,
      "bottom": null,
      "display": null,
      "flex": null,
      "flex_flow": null,
      "grid_area": null,
      "grid_auto_columns": null,
      "grid_auto_flow": null,
      "grid_auto_rows": null,
      "grid_column": null,
      "grid_gap": null,
      "grid_row": null,
      "grid_template_areas": null,
      "grid_template_columns": null,
      "grid_template_rows": null,
      "height": null,
      "justify_content": null,
      "justify_items": null,
      "left": null,
      "margin": null,
      "max_height": null,
      "max_width": null,
      "min_height": null,
      "min_width": null,
      "object_fit": null,
      "object_position": null,
      "order": null,
      "overflow": null,
      "overflow_x": null,
      "overflow_y": null,
      "padding": null,
      "right": null,
      "top": null,
      "visibility": null,
      "width": null
     }
    },
    "9c6f6db392414f79a915e95e03270e6c": {
     "model_module": "@jupyter-widgets/base",
     "model_module_version": "1.2.0",
     "model_name": "LayoutModel",
     "state": {
      "_model_module": "@jupyter-widgets/base",
      "_model_module_version": "1.2.0",
      "_model_name": "LayoutModel",
      "_view_count": null,
      "_view_module": "@jupyter-widgets/base",
      "_view_module_version": "1.2.0",
      "_view_name": "LayoutView",
      "align_content": null,
      "align_items": null,
      "align_self": null,
      "border": null,
      "bottom": null,
      "display": null,
      "flex": null,
      "flex_flow": null,
      "grid_area": null,
      "grid_auto_columns": null,
      "grid_auto_flow": null,
      "grid_auto_rows": null,
      "grid_column": null,
      "grid_gap": null,
      "grid_row": null,
      "grid_template_areas": null,
      "grid_template_columns": null,
      "grid_template_rows": null,
      "height": null,
      "justify_content": null,
      "justify_items": null,
      "left": null,
      "margin": null,
      "max_height": null,
      "max_width": null,
      "min_height": null,
      "min_width": null,
      "object_fit": null,
      "object_position": null,
      "order": null,
      "overflow": null,
      "overflow_x": null,
      "overflow_y": null,
      "padding": null,
      "right": null,
      "top": null,
      "visibility": null,
      "width": null
     }
    },
    "a39c4265290b457b9a1af91f5b738b69": {
     "model_module": "@jupyter-widgets/controls",
     "model_module_version": "1.5.0",
     "model_name": "VBoxModel",
     "state": {
      "_dom_classes": [
       "widget-interact"
      ],
      "_model_module": "@jupyter-widgets/controls",
      "_model_module_version": "1.5.0",
      "_model_name": "VBoxModel",
      "_view_count": null,
      "_view_module": "@jupyter-widgets/controls",
      "_view_module_version": "1.5.0",
      "_view_name": "VBoxView",
      "box_style": "",
      "children": [
       "IPY_MODEL_23d8829a603747198f9d2a33fa11324a",
       "IPY_MODEL_4180dd34625d410a9c7dcf058d190a81",
       "IPY_MODEL_3a721ce419c64a05bc00e70b37ba26f0"
      ],
      "layout": "IPY_MODEL_9c6f6db392414f79a915e95e03270e6c"
     }
    },
    "b61e619cf7b54925ac44901117695dac": {
     "model_module": "@jupyter-widgets/controls",
     "model_module_version": "1.5.0",
     "model_name": "DescriptionStyleModel",
     "state": {
      "_model_module": "@jupyter-widgets/controls",
      "_model_module_version": "1.5.0",
      "_model_name": "DescriptionStyleModel",
      "_view_count": null,
      "_view_module": "@jupyter-widgets/base",
      "_view_module_version": "1.2.0",
      "_view_name": "StyleView",
      "description_width": ""
     }
    },
    "b7e60bc3901c40d3a126017231f52ea3": {
     "model_module": "@jupyter-widgets/base",
     "model_module_version": "1.2.0",
     "model_name": "LayoutModel",
     "state": {
      "_model_module": "@jupyter-widgets/base",
      "_model_module_version": "1.2.0",
      "_model_name": "LayoutModel",
      "_view_count": null,
      "_view_module": "@jupyter-widgets/base",
      "_view_module_version": "1.2.0",
      "_view_name": "LayoutView",
      "align_content": null,
      "align_items": null,
      "align_self": null,
      "border": null,
      "bottom": null,
      "display": null,
      "flex": null,
      "flex_flow": null,
      "grid_area": null,
      "grid_auto_columns": null,
      "grid_auto_flow": null,
      "grid_auto_rows": null,
      "grid_column": null,
      "grid_gap": null,
      "grid_row": null,
      "grid_template_areas": null,
      "grid_template_columns": null,
      "grid_template_rows": null,
      "height": null,
      "justify_content": null,
      "justify_items": null,
      "left": null,
      "margin": null,
      "max_height": null,
      "max_width": null,
      "min_height": null,
      "min_width": null,
      "object_fit": null,
      "object_position": null,
      "order": null,
      "overflow": null,
      "overflow_x": null,
      "overflow_y": null,
      "padding": null,
      "right": null,
      "top": null,
      "visibility": null,
      "width": null
     }
    },
    "bc424a63f6ab43149d714975516f8603": {
     "model_module": "@jupyter-widgets/controls",
     "model_module_version": "1.5.0",
     "model_name": "DropdownModel",
     "state": {
      "_dom_classes": [],
      "_model_module": "@jupyter-widgets/controls",
      "_model_module_version": "1.5.0",
      "_model_name": "DropdownModel",
      "_options_labels": [
       "Andaman & Nicobar Islands",
       "Andhra Pradesh",
       "Arunachal Pradesh",
       "Assam",
       "Bihar",
       "Chandigarh",
       "Chhattisgarh",
       "Delhi",
       "Goa",
       "Gujarat",
       "Haryana",
       "Himachal Pradesh",
       "Jammu & Kashmir",
       "Jharkhand",
       "Karnataka",
       "Kerala",
       "Lakshadweep",
       "Madhya Pradesh",
       "Maharashtra",
       "Manipur",
       "Meghalaya",
       "Mizoram",
       "Nagaland",
       "Odisha",
       "Puducherry",
       "Punjab",
       "Rajasthan",
       "Sikkim",
       "Tamil Nadu",
       "Tripura",
       "Uttar Pradesh",
       "Uttarakhand",
       "West Bengal",
       "Dadra & Nagar Haveli",
       "Daman & Diu"
      ],
      "_view_count": null,
      "_view_module": "@jupyter-widgets/controls",
      "_view_module_version": "1.5.0",
      "_view_name": "DropdownView",
      "description": "State:",
      "description_tooltip": null,
      "disabled": false,
      "index": 0,
      "layout": "IPY_MODEL_9a2b3da9f1e34e1cb46c282f0ea3accd",
      "style": "IPY_MODEL_b61e619cf7b54925ac44901117695dac"
     }
    },
    "ce11d528299940c78692bce687967478": {
     "model_module": "@jupyter-widgets/controls",
     "model_module_version": "1.5.0",
     "model_name": "DescriptionStyleModel",
     "state": {
      "_model_module": "@jupyter-widgets/controls",
      "_model_module_version": "1.5.0",
      "_model_name": "DescriptionStyleModel",
      "_view_count": null,
      "_view_module": "@jupyter-widgets/base",
      "_view_module_version": "1.2.0",
      "_view_name": "StyleView",
      "description_width": ""
     }
    },
    "d60d337e081d4929b0deac48a9f80f68": {
     "model_module": "@jupyter-widgets/base",
     "model_module_version": "1.2.0",
     "model_name": "LayoutModel",
     "state": {
      "_model_module": "@jupyter-widgets/base",
      "_model_module_version": "1.2.0",
      "_model_name": "LayoutModel",
      "_view_count": null,
      "_view_module": "@jupyter-widgets/base",
      "_view_module_version": "1.2.0",
      "_view_name": "LayoutView",
      "align_content": null,
      "align_items": null,
      "align_self": null,
      "border": null,
      "bottom": null,
      "display": null,
      "flex": null,
      "flex_flow": null,
      "grid_area": null,
      "grid_auto_columns": null,
      "grid_auto_flow": null,
      "grid_auto_rows": null,
      "grid_column": null,
      "grid_gap": null,
      "grid_row": null,
      "grid_template_areas": null,
      "grid_template_columns": null,
      "grid_template_rows": null,
      "height": null,
      "justify_content": null,
      "justify_items": null,
      "left": null,
      "margin": null,
      "max_height": null,
      "max_width": null,
      "min_height": null,
      "min_width": null,
      "object_fit": null,
      "object_position": null,
      "order": null,
      "overflow": null,
      "overflow_x": null,
      "overflow_y": null,
      "padding": null,
      "right": null,
      "top": null,
      "visibility": null,
      "width": null
     }
    },
    "f17dc0fb865140d38a3f10c4eb33364e": {
     "model_module": "@jupyter-widgets/controls",
     "model_module_version": "1.5.0",
     "model_name": "DescriptionStyleModel",
     "state": {
      "_model_module": "@jupyter-widgets/controls",
      "_model_module_version": "1.5.0",
      "_model_name": "DescriptionStyleModel",
      "_view_count": null,
      "_view_module": "@jupyter-widgets/base",
      "_view_module_version": "1.2.0",
      "_view_name": "StyleView",
      "description_width": ""
     }
    }
   }
  }
 },
 "nbformat": 4,
 "nbformat_minor": 0
}
